{
 "cells": [
  {
   "cell_type": "code",
   "execution_count": 1,
   "id": "b070fd97",
   "metadata": {},
   "outputs": [],
   "source": [
    "from docx import Document\n",
    "from docx.shared import Inches, Cm, Pt\n",
    "import pandas as pd"
   ]
  },
  {
   "cell_type": "code",
   "execution_count": 2,
   "id": "a8564a56",
   "metadata": {},
   "outputs": [],
   "source": [
    "# задаём сегодняшнюю дату\n",
    "from datetime import date\n",
    "today = str(date.today().strftime('%d.%m.%Y'))"
   ]
  },
  {
   "cell_type": "code",
   "execution_count": 5,
   "id": "ad834eba",
   "metadata": {},
   "outputs": [],
   "source": [
    "# открываем эксель с данными\n",
    "tabl_zakluch = pd.read_excel('C:/Users/mgika/Documents/python_scripts/zakluch/zakluch.xlsx')"
   ]
  },
  {
   "cell_type": "code",
   "execution_count": 10,
   "id": "26e4e585",
   "metadata": {},
   "outputs": [
    {
     "name": "stdout",
     "output_type": "stream",
     "text": [
      "11\n"
     ]
    }
   ],
   "source": [
    "# с помощью к считаем проверяем количество созданных заключений\n",
    "k = 0\n",
    "# из эксель извлекаем № анализа, фио, № блока и результаты\n",
    "for row in tabl_zakluch.itertuples(index = True):\n",
    "    k += 1\n",
    "    patient = (getattr(row,'no'),getattr(row, 'name'), getattr(row, 'ffpe'), getattr(row, 'kras'), getattr(row, 'nras'))\n",
    "    no = patient[0]\n",
    "    name = patient[1]\n",
    "    ffpe = str(patient[2])\n",
    "    kras = patient[3]\n",
    "    nras = patient[4]\n",
    "# создаём документ\n",
    "    document = Document()\n",
    "# задаём нулевой отступ перед логотипом\n",
    "    sections = document.sections\n",
    "    for section in sections:\n",
    "        section.top_margin = Cm(0)\n",
    "        section.bottom_margin = Cm(2.0)\n",
    "        section.left_margin = Cm(2.0)\n",
    "        section.right_margin = Cm(1.5)\n",
    "#  вставляем логотип больницы    \n",
    "    document.add_picture('C:/Users/mgika/Documents/python_scripts/zakluch/header.png', width=Inches(6))\n",
    "# добавляем название\n",
    "    document.add_heading('Заключение', 0)\n",
    "# добавляем номер исследования\n",
    "    p_no = document.add_paragraph()\n",
    "    p_no.add_run('Номер исследования: ').bold = True\n",
    "    p_no.add_run(no)\n",
    "    p_no.paragraph_format.space_after = Pt(0)\n",
    "#  добавляем фио\n",
    "    p_name = document.add_paragraph()\n",
    "    p_name.add_run('ФИО: ').bold = True\n",
    "    p_name.add_run(name)\n",
    "    p_name.paragraph_format.space_after = Pt(0)\n",
    "#  добавляем № блока\n",
    "    p_ffpe = document.add_paragraph()\n",
    "    p_ffpe.add_run('Номер входящего материала: ').bold = True\n",
    "    p_ffpe.add_run(ffpe)\n",
    "#  добавляем цель исследования    \n",
    "    p_goal = document.add_paragraph()\n",
    "    p_goal.paragraph_format.space_after = Pt(0)\n",
    "    p_goal.add_run('Цель исследования:').bold = True\n",
    "    kr = document.add_paragraph('определение активирующих мутаций гена KRAS:', style='List Number')\n",
    "    kr.paragraph_format.space_after = Pt(0)\n",
    "    kras_2 = document.add_paragraph('экзон 2 (p.G12A, p.G12D, p.G12R, p.G12V, p.G13D, p.G12C, p.G12S),', style='List Bullet') \n",
    "    kras_3 = document.add_paragraph('экзон 3 (p.A59E, p.A59G, p.A59T, p.Q61H, p.Q61L, p.Q61R),' , style='List Bullet')  \n",
    "    kras_4 = document.add_paragraph('экзон 4 (p.K117N(AAC), p.K117N(AAT), p.K117R, p.K117E, p.A146T, p.A146P, p.A146V)', style='List Bullet')\n",
    "    kras_4.paragraph_format.space_after = Pt(0)\n",
    "    nras = document.add_paragraph('определение активирующих мутаций гена NRAS:', style='List Number')\n",
    "    nras_2 = document.add_paragraph('экзон 2 (p.G12D, p.G12C, p.G12S, p.G13R, p.G13V)', style = 'List Bullet')\n",
    "    nras.paragraph_format.space_after = Pt(0)\n",
    "    nras_3 = document.add_paragraph('экзон 3 (p.A59T, p.A59D, p.Q61H(CAC), p.Q61H(CAT), p. Q61L, p.Q61K, p.Q61R)' , style = 'List Bullet')\n",
    "    nras_4 = document.add_paragraph('экзон 4 (p.K117R, p.A146T)', style = 'List Bullet')\n",
    "    nras_4.paragraph_format.space_after = Pt(0)\n",
    "    braf = document.add_paragraph('определение активирующих мутаций в 15 экзоне гена BRAF:', style='List Number')\n",
    "    braf.paragraph_format.space_before = Pt(0)\n",
    "    braf.paragraph_format.space_after = Pt(0)\n",
    "    braf_15 = document.add_paragraph('V600E (c.1799T>A), V600D (c.1799_1800delinsAT), V600E2 (c.1799_1800delinsAA), V600K (c.1798_1799delinsAA)', style = 'List Bullet')\n",
    "#  добавляем методы\n",
    "    p_method = document.add_paragraph()\n",
    "    p_method.paragraph_format.space_after = Pt(0)\n",
    "    p_method.add_run('Методы исследования:').bold = True\n",
    "    document.add_paragraph('Ras Mutation Analysis Kit (EntroGen Inc) на приборе PCR Biorad CFX', style='List Bullet')\n",
    "    document.add_paragraph('cobas® 4800 BRAF V600 Mutation Test (Roche Molecular Systems, Inc) на приборе COBAS Z 480', style='List Bullet')\n",
    "#  добавляем результаты\n",
    "    p_result = document.add_paragraph()\n",
    "    p_result.paragraph_format.space_after = Pt(0)\n",
    "    p_result.add_run('Результат:').bold = True\n",
    "    if kras == 'exon 2':\n",
    "        document.add_paragraph('При исследовании полученных образцов ДНК выявленa активирующая мутация во 2 экзоне гена KRAS (NM_004985)', style='List Bullet')\n",
    "    elif kras == 'exon 3':\n",
    "        document.add_paragraph('При исследовании полученных образцов ДНК выявленa активирующая мутация в 3 экзоне гена KRAS (NM_004985)', style='List Bullet')\n",
    "    elif kras == 'exon 4':\n",
    "        document.add_paragraph('При исследовании полученных образцов ДНК выявленa активирующая мутация в 4 экзоне гена KRAS (NM_004985)', style='List Bullet')    \n",
    "    else:\n",
    "        document.add_paragraph('При исследовании полученных образцов ДНК не выявлено активирующих мутаций во 2, 3 и 4 экзонах гена KRAS (NM_004985)', style='List Bullet')\n",
    "    if nras == 'exon 2':\n",
    "        document.add_paragraph('При исследовании полученных образцов ДНК выявленa активирующая мутация во 2 экзоне гена NRAS (NM_002542)', style='List Bullet')\n",
    "    elif nras == 'exon 3':\n",
    "        document.add_paragraph('При исследовании полученных образцов ДНК выявленa активирующая мутация в 3 экзоне гена NRAS (NM_002542)', style='List Bullet')\n",
    "    elif nras == 'exon 4':\n",
    "        document.add_paragraph('При исследовании полученных образцов ДНК выявленa активирующая мутация в 4 экзоне гена NRAS (NM_002542)', style='List Bullet')    \n",
    "    else:\n",
    "        document.add_paragraph('При исследовании полученных образцов ДНК не выявлено активирующих мутаций во 2, 3 и 4 экзонах гена NRAS (NM_002542)', style='List Bullet')\n",
    "    document.add_paragraph('При исследовании полученных образцов ДНК не выявлено активирующих мутаций в 15 экзоне гена BRAF (NM_004333)', style='List Bullet')\n",
    "#  добавляем код омс\n",
    "    oms_12 = document.add_paragraph('Код ОМС 29012')\n",
    "    oms_12.paragraph_format.space_after = Pt(0)\n",
    "    oms_14 = document.add_paragraph('Код ОМС 29014')\n",
    "    oms_14.paragraph_format.space_before = Pt(0)\n",
    "    \n",
    "#  добавляем дату\n",
    "    today_date = document.add_paragraph(today)\n",
    "    today_date.paragraph_format.space_after = Pt(0)\n",
    "#  добавляем врача и зав\n",
    "    doctor = document.add_paragraph('Врач-генетик                                                                                                                        Гагарин И.М.')\n",
    "    doctor_2 = document.add_paragraph('Врач-генетик                                                                                                                        Леонов А.А.')\n",
    "    doctor.paragraph_format.space_after = Pt(0)\n",
    "    doctor_2.paragraph_format.space_after = Pt(0)\n",
    "    zav = document.add_paragraph('Зав. лабораторией                                                                                                        Демидова И.А.')\n",
    "    zav.paragraph_format.space_after = Pt(0)\n",
    "    #  сохраняем в файл    \n",
    "    path = 'C:/Users/mgika/Documents/python_scripts/zakluch/' + name + '_ras_' + today + '.docx'\n",
    "    document.save(path)\n",
    "#  выводим кол-во созданных заключений   \n",
    "print(k)"
   ]
  },
  {
   "cell_type": "code",
   "execution_count": null,
   "id": "de32415a",
   "metadata": {},
   "outputs": [],
   "source": []
  },
  {
   "cell_type": "code",
   "execution_count": null,
   "id": "d9426bcb",
   "metadata": {},
   "outputs": [],
   "source": []
  }
 ],
 "metadata": {
  "kernelspec": {
   "display_name": "Python 3 (ipykernel)",
   "language": "python",
   "name": "python3"
  },
  "language_info": {
   "codemirror_mode": {
    "name": "ipython",
    "version": 3
   },
   "file_extension": ".py",
   "mimetype": "text/x-python",
   "name": "python",
   "nbconvert_exporter": "python",
   "pygments_lexer": "ipython3",
   "version": "3.9.7"
  }
 },
 "nbformat": 4,
 "nbformat_minor": 5
}
