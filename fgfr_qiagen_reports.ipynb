{
 "cells": [
  {
   "cell_type": "code",
   "execution_count": 1,
   "id": "7e9a1570",
   "metadata": {},
   "outputs": [],
   "source": [
    "from docx import Document\n",
    "from docx.shared import Inches, Cm, Pt\n",
    "import pandas as pd"
   ]
  },
  {
   "cell_type": "code",
   "execution_count": 12,
   "id": "9214328f",
   "metadata": {},
   "outputs": [
    {
     "name": "stdout",
     "output_type": "stream",
     "text": [
      "6\n"
     ]
    }
   ],
   "source": [
    "# задаём сегодняшнюю дату\n",
    "from datetime import date\n",
    "today = str(date.today().strftime('%d.%m.%Y'))\n",
    "\n",
    "# открываем эксель с данными\n",
    "tabl_zakluch = pd.read_excel('C:/Users/mgika/Documents/python_scripts/zakluch/fgfr.xlsx')\n",
    "\n",
    "# с помощью к считаем проверяем количество созданных заключений\n",
    "k = 0\n",
    "# из эксель извлекаем № анализа, фио, № блока и результаты\n",
    "for row in tabl_zakluch.itertuples(index = True):\n",
    "    k += 1\n",
    "    patient = (getattr(row,'no'),getattr(row, 'name'), getattr(row, 'ffpe'), getattr(row, 'fgfr'))\n",
    "    no = patient[0]\n",
    "    name = patient[1]\n",
    "    ffpe = str(patient[2])\n",
    "    fgfr = patient[3]\n",
    "    \n",
    "# создаём документ\n",
    "    document = Document()\n",
    "# задаём поля документа\n",
    "    sections = document.sections\n",
    "    for section in sections:\n",
    "        section.top_margin = Cm(0.5)\n",
    "        section.bottom_margin = Cm(2.5)\n",
    "        section.left_margin = Cm(2.5)\n",
    "        section.right_margin = Cm(2.5)\n",
    "#  вставляем логотип больницы    \n",
    "    document.add_picture('C:/Users/mgika/Documents/python_scripts/zakluch/header.png', width=Inches(6))\n",
    "# добавляем название\n",
    "    document.add_heading('Заключение', 0)\n",
    "# добавляем номер исследования\n",
    "    p_no = document.add_paragraph()\n",
    "    p_no.add_run('Номер исследования: ').bold = True\n",
    "    p_no.add_run(no)\n",
    "    p_no.paragraph_format.space_after = Pt(0)\n",
    "#  добавляем фио\n",
    "    p_name = document.add_paragraph()\n",
    "    p_name.add_run('ФИО: ').bold = True\n",
    "    p_name.add_run(name)\n",
    "    p_name.paragraph_format.space_after = Pt(0)\n",
    "#  добавляем № блока\n",
    "    p_ffpe = document.add_paragraph()\n",
    "    p_ffpe.add_run('Номер входящего материала: ').bold = True\n",
    "    p_ffpe.add_run(ffpe)\n",
    "#  добавляем цель исследования    \n",
    "    p_goal = document.add_paragraph()\n",
    "    p_goal.paragraph_format.space_after = Pt(0)\n",
    "    p_goal.add_run('Цель исследования:').bold = True\n",
    "    mut = document.add_paragraph('Выявление характерных для уротелиальных опухолей точечных мутаций и транслокаций в генах FGFR2 и FGFR3:')\n",
    "    mut.paragraph_format.space_after = Pt(0)\n",
    "    mut_point = document.add_paragraph('точечные мутации в 7-м и 10-м экзонах гена FGFR3 : c.742C>T (p.R248C), c.746C>G (p.S249C), c.1108G>T (p.G370C), c.1118A>G (p.Y373C),', style='List Bullet 2') \n",
    "    mut_rearr = document.add_paragraph('транслокации с вовлечением генов FGFR2 и FGFR3: FGFR3-TACC3v1, FGFR3-TACC3v3, FGFR3-BAIAP2L1, FGFR2-BICC1, FGFR2-CASP7', style = 'List Bullet 2')\n",
    "    \n",
    "#  добавляем методы\n",
    "    p_method = document.add_paragraph()\n",
    "    p_method.paragraph_format.space_after = Pt(0)\n",
    "    p_method.add_run('Методы исследования:').bold = True\n",
    "    document.add_paragraph('ОТ-ПЦР с использованием набора FGFR RGQ RT-PCR (Qiagen) на приборе Rotor-Gene Q (Qiagen)', style='List Bullet')\n",
    "\n",
    "#  добавляем результаты\n",
    "    p_result = document.add_paragraph()\n",
    "    p_result.paragraph_format.space_after = Pt(0)\n",
    "    p_result.add_run('Результат:').bold = True\n",
    "    if fgfr == 'wt':\n",
    "        document.add_paragraph('В опухоли отсутствуют точечные мутации и транслокации в генах FGFR2 и FGFR3, выявляемые использованным набором реагентов.', style='List Bullet')\n",
    "    else:\n",
    "        document.add_paragraph('При двукратной постановке ПЦР амплификация отсутствует. Определение статуса генов FGFR2 и FGFR3 указанным методом не удалось.)', style='List Bullet')\n",
    "\n",
    "#  добавляем дату\n",
    "    today_date = document.add_paragraph(today)\n",
    "    today_date.paragraph_format.space_before = Pt(24)\n",
    "    \n",
    "#  добавляем врача и зав\n",
    "    doctor = document.add_paragraph('Врач                                                                                                                                       Гикало М.Б.')\n",
    "    doctor.paragraph_format.space_before = Pt(12)\n",
    "    doctor.paragraph_format.space_after = Pt(0)\n",
    "    zav = document.add_paragraph('Зав. лабораторией                                                                                                      Демидова И.А.')\n",
    "    zav.paragraph_format.space_after = Pt(0)\n",
    "    #  сохраняем в файл    \n",
    "    path = 'C:/Users/mgika/Documents/python_scripts/zakluch/' + name + '_fgfr_' + today + '.docx'\n",
    "    document.save(path)\n",
    "#  выводим кол-во созданных заключений   \n",
    "print(k)"
   ]
  },
  {
   "cell_type": "code",
   "execution_count": null,
   "id": "3fb11a22",
   "metadata": {},
   "outputs": [],
   "source": []
  }
 ],
 "metadata": {
  "kernelspec": {
   "display_name": "Python 3 (ipykernel)",
   "language": "python",
   "name": "python3"
  },
  "language_info": {
   "codemirror_mode": {
    "name": "ipython",
    "version": 3
   },
   "file_extension": ".py",
   "mimetype": "text/x-python",
   "name": "python",
   "nbconvert_exporter": "python",
   "pygments_lexer": "ipython3",
   "version": "3.9.7"
  }
 },
 "nbformat": 4,
 "nbformat_minor": 5
}
